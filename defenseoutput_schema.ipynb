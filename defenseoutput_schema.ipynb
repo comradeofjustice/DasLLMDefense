{
 "cells": [
  {
   "cell_type": "code",
   "execution_count": null,
   "id": "e6a127f9",
   "metadata": {},
   "outputs": [],
   "source": [
    "import json\n",
    "import csv\n",
    "import os\n",
    "\n",
    "# 定义输入JSON文件路径和输出CSV文件路径\n",
    "json_file_path = '/data/CSY/autodefense/AutoDefense/data/defense_output/open-llm-defensedefense918/llama-pro-8b/ex-2.json'\n",
    "csv_file_path = '/data/CSY/autodefense/AutoDefense/data/defense_output/open-llm-defensedefense918/llama-pro-8b/ex-2.csv'\n",
    "\n",
    "# 确保输出目录存在\n",
    "os.makedirs(os.path.dirname(csv_file_path), exist_ok=True)\n",
    "\n",
    "# 读取JSON文件\n",
    "with open(json_file_path, 'r', encoding='utf-8') as json_file:\n",
    "    data = json.load(json_file)\n",
    "\n",
    "# 写入CSV文件\n",
    "with open(csv_file_path, 'w', newline='', encoding='utf-8') as csv_file:\n",
    "    # 定义CSV的列名\n",
    "    fieldnames = ['name', 'raw_response', 'defense_response']\n",
    "    writer = csv.DictWriter(csv_file, fieldnames=fieldnames)\n",
    "    \n",
    "    # 写入表头\n",
    "    writer.writeheader()\n",
    "    \n",
    "    # 写入数据\n",
    "    for item in data:\n",
    "        # 确保item是字典类型且包含所有必要的字段\n",
    "        if isinstance(item, dict):\n",
    "            # 提取所需字段，如果字段不存在则使用空字符串\n",
    "            row = {\n",
    "                'name': item.get('name', ''),\n",
    "                'raw_response': item.get('raw_response', ''),\n",
    "                'defense_response': item.get('defense_response', '')\n",
    "            }\n",
    "            writer.writerow(row)\n",
    "\n",
    "print(f'转换完成！CSV文件已保存至：{csv_file_path}')"
   ]
  }
 ],
 "metadata": {
  "kernelspec": {
   "display_name": "autodefense",
   "language": "python",
   "name": "python3"
  },
  "language_info": {
   "name": "python",
   "version": "3.12.11"
  }
 },
 "nbformat": 4,
 "nbformat_minor": 5
}
